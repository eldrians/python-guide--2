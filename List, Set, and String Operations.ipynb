{
 "cells": [
  {
   "cell_type": "markdown",
   "id": "60d93b33",
   "metadata": {},
   "source": [
    "### Operasi pada List, Set, dan String"
   ]
  },
  {
   "cell_type": "markdown",
   "id": "9a9c38f9",
   "metadata": {},
   "source": [
    "#### len()\n",
    "\n",
    "- Sebelumnya kita sudah mengetahui bahwa slicing digunakan untuk urutan\n",
    "- len() yang akan menghitung panjang atau banyaknyaelemen dari list (untuk string menjadi menghitung jumlah karakternya)"
   ]
  },
  {
   "cell_type": "code",
   "execution_count": 1,
   "id": "f6699237",
   "metadata": {},
   "outputs": [],
   "source": [
    "a = [3,5,5,7,7,7]"
   ]
  },
  {
   "cell_type": "code",
   "execution_count": 2,
   "id": "b12dcdfa",
   "metadata": {},
   "outputs": [
    {
     "name": "stdout",
     "output_type": "stream",
     "text": [
      "[3, 5, 5, 7, 7, 7]\n"
     ]
    }
   ],
   "source": [
    "print(a)"
   ]
  },
  {
   "cell_type": "code",
   "execution_count": 3,
   "id": "65f0d408",
   "metadata": {},
   "outputs": [
    {
     "data": {
      "text/plain": [
       "6"
      ]
     },
     "execution_count": 3,
     "metadata": {},
     "output_type": "execute_result"
    }
   ],
   "source": [
    "len(a)"
   ]
  },
  {
   "cell_type": "code",
   "execution_count": 4,
   "id": "f43f5572",
   "metadata": {},
   "outputs": [],
   "source": [
    "b = {3,5,5,7,7,7}"
   ]
  },
  {
   "cell_type": "code",
   "execution_count": 6,
   "id": "9a8d9507",
   "metadata": {},
   "outputs": [
    {
     "name": "stdout",
     "output_type": "stream",
     "text": [
      "{3, 5, 7}\n"
     ]
    }
   ],
   "source": [
    "print(b) #mengambil elemen unik"
   ]
  },
  {
   "cell_type": "code",
   "execution_count": 8,
   "id": "25e26fae",
   "metadata": {},
   "outputs": [
    {
     "data": {
      "text/plain": [
       "3"
      ]
     },
     "execution_count": 8,
     "metadata": {},
     "output_type": "execute_result"
    }
   ],
   "source": [
    "len(b)"
   ]
  },
  {
   "cell_type": "code",
   "execution_count": 9,
   "id": "cc106899",
   "metadata": {},
   "outputs": [],
   "source": [
    "c = 'Data Science'"
   ]
  },
  {
   "cell_type": "code",
   "execution_count": 10,
   "id": "8b694a49",
   "metadata": {},
   "outputs": [
    {
     "name": "stdout",
     "output_type": "stream",
     "text": [
      "Data Science\n"
     ]
    }
   ],
   "source": [
    "print(c)"
   ]
  },
  {
   "cell_type": "code",
   "execution_count": 12,
   "id": "585b1dd7",
   "metadata": {},
   "outputs": [
    {
     "data": {
      "text/plain": [
       "12"
      ]
     },
     "execution_count": 12,
     "metadata": {},
     "output_type": "execute_result"
    }
   ],
   "source": [
    "len(c)"
   ]
  },
  {
   "cell_type": "markdown",
   "id": "c5767e8b",
   "metadata": {},
   "source": [
    "Task"
   ]
  },
  {
   "cell_type": "code",
   "execution_count": 13,
   "id": "e5a61ba8",
   "metadata": {},
   "outputs": [],
   "source": [
    "x = [1,2,3,3,3,4,7,7,7,8,10]\n",
    "y = {1,2,3,3,3,4,7,7,7,8,10}\n",
    "z = 'Belajar di MyEduSolve'"
   ]
  },
  {
   "cell_type": "code",
   "execution_count": 14,
   "id": "780164d1",
   "metadata": {},
   "outputs": [
    {
     "name": "stdout",
     "output_type": "stream",
     "text": [
      "11\n"
     ]
    }
   ],
   "source": [
    "print(len(x))"
   ]
  },
  {
   "cell_type": "code",
   "execution_count": 15,
   "id": "18da7f59",
   "metadata": {},
   "outputs": [
    {
     "name": "stdout",
     "output_type": "stream",
     "text": [
      "7\n"
     ]
    }
   ],
   "source": [
    "print(len(y))"
   ]
  },
  {
   "cell_type": "code",
   "execution_count": 16,
   "id": "4c0891a3",
   "metadata": {},
   "outputs": [
    {
     "name": "stdout",
     "output_type": "stream",
     "text": [
      "21\n"
     ]
    }
   ],
   "source": [
    "print(len(z))"
   ]
  },
  {
   "cell_type": "markdown",
   "id": "0e765620",
   "metadata": {},
   "source": [
    "#### min() dan max()\n",
    "\n",
    "Fungsi min() dan max() adalah untuk mengetahui berapa nilai minimum dan maksimum"
   ]
  },
  {
   "cell_type": "code",
   "execution_count": 17,
   "id": "107b1ddd",
   "metadata": {},
   "outputs": [],
   "source": [
    "a = [3,5,5,7,7,7]"
   ]
  },
  {
   "cell_type": "code",
   "execution_count": 18,
   "id": "0a332121",
   "metadata": {},
   "outputs": [
    {
     "data": {
      "text/plain": [
       "3"
      ]
     },
     "execution_count": 18,
     "metadata": {},
     "output_type": "execute_result"
    }
   ],
   "source": [
    "min(a)"
   ]
  },
  {
   "cell_type": "code",
   "execution_count": 19,
   "id": "3182057a",
   "metadata": {},
   "outputs": [
    {
     "data": {
      "text/plain": [
       "7"
      ]
     },
     "execution_count": 19,
     "metadata": {},
     "output_type": "execute_result"
    }
   ],
   "source": [
    "max(a)"
   ]
  },
  {
   "cell_type": "markdown",
   "id": "9de6f0be",
   "metadata": {},
   "source": [
    "#### count()\n",
    "\n",
    "Fungsi count() adalah untuk mengetahui berapa suatu objek kali muncul dalam list"
   ]
  },
  {
   "cell_type": "code",
   "execution_count": 20,
   "id": "e643f182",
   "metadata": {},
   "outputs": [],
   "source": [
    "a = [3,5,5,7,7,7]"
   ]
  },
  {
   "cell_type": "code",
   "execution_count": 21,
   "id": "8cdd1469",
   "metadata": {},
   "outputs": [
    {
     "data": {
      "text/plain": [
       "2"
      ]
     },
     "execution_count": 21,
     "metadata": {},
     "output_type": "execute_result"
    }
   ],
   "source": [
    "a.count(5)"
   ]
  },
  {
   "cell_type": "code",
   "execution_count": 23,
   "id": "51bd829d",
   "metadata": {},
   "outputs": [],
   "source": [
    "c = 'Data Science'"
   ]
  },
  {
   "cell_type": "code",
   "execution_count": 26,
   "id": "30688f08",
   "metadata": {},
   "outputs": [
    {
     "data": {
      "text/plain": [
       "2"
      ]
     },
     "execution_count": 26,
     "metadata": {},
     "output_type": "execute_result"
    }
   ],
   "source": [
    "c.count('a')"
   ]
  },
  {
   "cell_type": "markdown",
   "id": "0304449b",
   "metadata": {},
   "source": [
    "Task"
   ]
  },
  {
   "cell_type": "code",
   "execution_count": 39,
   "id": "dc9607d1",
   "metadata": {},
   "outputs": [],
   "source": [
    "p = ['kucing', 'sapi', 'ayam', 'katak', 'kucing', 'capung']\n",
    "q = 'Belajar di MyEduSolve'"
   ]
  },
  {
   "cell_type": "code",
   "execution_count": 40,
   "id": "49a76f70",
   "metadata": {},
   "outputs": [
    {
     "data": {
      "text/plain": [
       "'ayam'"
      ]
     },
     "execution_count": 40,
     "metadata": {},
     "output_type": "execute_result"
    }
   ],
   "source": [
    "min(p)"
   ]
  },
  {
   "cell_type": "code",
   "execution_count": 41,
   "id": "85fbfd56",
   "metadata": {},
   "outputs": [
    {
     "data": {
      "text/plain": [
       "'sapi'"
      ]
     },
     "execution_count": 41,
     "metadata": {},
     "output_type": "execute_result"
    }
   ],
   "source": [
    "max(p)"
   ]
  },
  {
   "cell_type": "code",
   "execution_count": 43,
   "id": "3b375f5a",
   "metadata": {},
   "outputs": [
    {
     "data": {
      "text/plain": [
       "2"
      ]
     },
     "execution_count": 43,
     "metadata": {},
     "output_type": "execute_result"
    }
   ],
   "source": [
    "p.count('kucing')"
   ]
  },
  {
   "cell_type": "code",
   "execution_count": 45,
   "id": "e4876a2c",
   "metadata": {},
   "outputs": [
    {
     "data": {
      "text/plain": [
       "2"
      ]
     },
     "execution_count": 45,
     "metadata": {},
     "output_type": "execute_result"
    }
   ],
   "source": [
    "q.count('l')"
   ]
  },
  {
   "cell_type": "markdown",
   "id": "7557c4e8",
   "metadata": {},
   "source": [
    "#### Penggabungan dan Replikasi\n",
    "\n",
    "Pada list juga dimungkinkan adanya penggabungan (+) dan replikasi (*)"
   ]
  },
  {
   "cell_type": "code",
   "execution_count": 46,
   "id": "b2065f69",
   "metadata": {},
   "outputs": [],
   "source": [
    "a = [3,5,5,7,7,7]\n",
    "d = ['d', 'a', 't', 'a']"
   ]
  },
  {
   "cell_type": "code",
   "execution_count": 47,
   "id": "ef42ec44",
   "metadata": {},
   "outputs": [
    {
     "data": {
      "text/plain": [
       "[3, 5, 5, 7, 7, 7, 'd', 'a', 't', 'a']"
      ]
     },
     "execution_count": 47,
     "metadata": {},
     "output_type": "execute_result"
    }
   ],
   "source": [
    "a + d"
   ]
  },
  {
   "cell_type": "code",
   "execution_count": 48,
   "id": "aec26a3b",
   "metadata": {},
   "outputs": [
    {
     "data": {
      "text/plain": [
       "['d', 'a', 't', 'a', 'd', 'a', 't', 'a']"
      ]
     },
     "execution_count": 48,
     "metadata": {},
     "output_type": "execute_result"
    }
   ],
   "source": [
    "d * 2"
   ]
  },
  {
   "cell_type": "markdown",
   "id": "aed47085",
   "metadata": {},
   "source": [
    "Fungsi pengali juga dapat Anda manfaatkan untuk inisiasi list"
   ]
  },
  {
   "cell_type": "code",
   "execution_count": 49,
   "id": "49ad08b5",
   "metadata": {},
   "outputs": [],
   "source": [
    "tiga = [3]*3"
   ]
  },
  {
   "cell_type": "code",
   "execution_count": 50,
   "id": "75133095",
   "metadata": {},
   "outputs": [
    {
     "name": "stdout",
     "output_type": "stream",
     "text": [
      "[3, 3, 3]\n"
     ]
    }
   ],
   "source": [
    "print(tiga)"
   ]
  },
  {
   "cell_type": "code",
   "execution_count": 51,
   "id": "6ba30833",
   "metadata": {},
   "outputs": [
    {
     "data": {
      "text/plain": [
       "3"
      ]
     },
     "execution_count": 51,
     "metadata": {},
     "output_type": "execute_result"
    }
   ],
   "source": [
    "len(tiga)"
   ]
  },
  {
   "cell_type": "markdown",
   "id": "dfd6a6aa",
   "metadata": {},
   "source": [
    "Task"
   ]
  },
  {
   "cell_type": "code",
   "execution_count": 53,
   "id": "f60fdd77",
   "metadata": {},
   "outputs": [],
   "source": [
    "angka = [1, 2, 3, 4, 5, 6, 7, 8, 9, 10]\n",
    "hewan = ['kucing', 'sapi', 'ayam', 'katak', 'kucing', 'capung']"
   ]
  },
  {
   "cell_type": "code",
   "execution_count": 59,
   "id": "04d9de87",
   "metadata": {},
   "outputs": [
    {
     "data": {
      "text/plain": [
       "[1,\n",
       " 2,\n",
       " 3,\n",
       " 4,\n",
       " 5,\n",
       " 6,\n",
       " 7,\n",
       " 8,\n",
       " 9,\n",
       " 10,\n",
       " 'kucing',\n",
       " 'sapi',\n",
       " 'ayam',\n",
       " 'katak',\n",
       " 'kucing',\n",
       " 'capung']"
      ]
     },
     "execution_count": 59,
     "metadata": {},
     "output_type": "execute_result"
    }
   ],
   "source": [
    "angka + hewan"
   ]
  },
  {
   "cell_type": "code",
   "execution_count": 61,
   "id": "b0607e5e",
   "metadata": {},
   "outputs": [
    {
     "data": {
      "text/plain": [
       "['kucing',\n",
       " 'sapi',\n",
       " 'ayam',\n",
       " 'katak',\n",
       " 'kucing',\n",
       " 'capung',\n",
       " 'kucing',\n",
       " 'sapi',\n",
       " 'ayam',\n",
       " 'katak',\n",
       " 'kucing',\n",
       " 'capung']"
      ]
     },
     "execution_count": 61,
     "metadata": {},
     "output_type": "execute_result"
    }
   ],
   "source": [
    "hewan * 2"
   ]
  },
  {
   "cell_type": "code",
   "execution_count": 62,
   "id": "915b4116",
   "metadata": {},
   "outputs": [],
   "source": [
    "hewan = ['kucing', 'sapi', 'ayam', 'katak', 'kucing', 'capung']"
   ]
  },
  {
   "cell_type": "code",
   "execution_count": 63,
   "id": "424402d3",
   "metadata": {},
   "outputs": [
    {
     "name": "stdout",
     "output_type": "stream",
     "text": [
      "['kucing', 'sapi', 'ayam', 'katak', 'kucing', 'capung']\n"
     ]
    }
   ],
   "source": [
    "print(hewan)"
   ]
  },
  {
   "cell_type": "code",
   "execution_count": 64,
   "id": "38b79c6b",
   "metadata": {},
   "outputs": [
    {
     "data": {
      "text/plain": [
       "6"
      ]
     },
     "execution_count": 64,
     "metadata": {},
     "output_type": "execute_result"
    }
   ],
   "source": [
    "len(hewan)"
   ]
  },
  {
   "cell_type": "code",
   "execution_count": 65,
   "id": "f6a0e332",
   "metadata": {},
   "outputs": [
    {
     "data": {
      "text/plain": [
       "['kucing', 'kucing', 'kucing']"
      ]
     },
     "execution_count": 65,
     "metadata": {},
     "output_type": "execute_result"
    }
   ],
   "source": [
    "['kucing'] * 3"
   ]
  },
  {
   "cell_type": "markdown",
   "id": "e3455d8f",
   "metadata": {},
   "source": [
    "#### Range\n",
    "\n",
    "- Fungsi range() memberikan deret bilangan dengan pola tertentu\n",
    "- Untuk melakukan perulangan (misalnya for) dalam mengakses elemen list, Anda dapat menggunakan fungsi range() pada Python\n",
    "- Lebih detail mengenai operasi perulangan akan dibahas pada modul Perulangan dan Kontrol Perulangan"
   ]
  },
  {
   "cell_type": "markdown",
   "id": "ceb59209",
   "metadata": {},
   "source": [
    "Fungsi range dapat memiliki 1-3 parameter"
   ]
  },
  {
   "cell_type": "markdown",
   "id": "21a294da",
   "metadata": {},
   "source": [
    "Range dengan 1 parameter n: membuat deret bilangan yang dimulai dari 0, sebanyak n bilangan"
   ]
  },
  {
   "cell_type": "code",
   "execution_count": 67,
   "id": "d01b72fc",
   "metadata": {},
   "outputs": [
    {
     "name": "stdout",
     "output_type": "stream",
     "text": [
      "0\n",
      "1\n",
      "2\n"
     ]
    }
   ],
   "source": [
    "for i in range(3):\n",
    "    print(i)"
   ]
  },
  {
   "cell_type": "markdown",
   "id": "471a2c85",
   "metadata": {},
   "source": [
    "- Range dengan 2 parameter (n,p): membuat deret bilangan yang dimulai dari n, hingga sebelum p (bilangan p tidak ikut)\n",
    "- Sering disebut sebagai inklusif n (deret dimulai bilangan n) dan eksklusif p (deret tidak menyertakan bilangan p)"
   ]
  },
  {
   "cell_type": "code",
   "execution_count": 68,
   "id": "af3305c1",
   "metadata": {},
   "outputs": [
    {
     "name": "stdout",
     "output_type": "stream",
     "text": [
      "0\n",
      "1\n",
      "2\n"
     ]
    }
   ],
   "source": [
    "for i in range (0,3):\n",
    "    print(i)"
   ]
  },
  {
   "cell_type": "markdown",
   "id": "04582303",
   "metadata": {},
   "source": [
    "Range dengan 3 parameter(n,p,q): membuat deret bilangan yang dimulai dari n, hingga sebelum p (bilangan p tidak ikut), dengan setiap elemennya memilikiselisih q"
   ]
  },
  {
   "cell_type": "code",
   "execution_count": 69,
   "id": "1e82bd7a",
   "metadata": {},
   "outputs": [
    {
     "name": "stdout",
     "output_type": "stream",
     "text": [
      "0\n",
      "2\n",
      "4\n",
      "6\n",
      "8\n"
     ]
    }
   ],
   "source": [
    "for i in range (0,10,2):\n",
    "    print(i)"
   ]
  },
  {
   "cell_type": "markdown",
   "id": "533b0352",
   "metadata": {},
   "source": [
    "Task"
   ]
  },
  {
   "cell_type": "code",
   "execution_count": 71,
   "id": "cf18bfee",
   "metadata": {},
   "outputs": [
    {
     "name": "stdout",
     "output_type": "stream",
     "text": [
      "0\n",
      "1\n",
      "2\n",
      "3\n",
      "4\n"
     ]
    }
   ],
   "source": [
    "for i in range(5):\n",
    "    print(i)"
   ]
  },
  {
   "cell_type": "code",
   "execution_count": 72,
   "id": "d752b7ef",
   "metadata": {},
   "outputs": [
    {
     "name": "stdout",
     "output_type": "stream",
     "text": [
      "5\n",
      "6\n"
     ]
    }
   ],
   "source": [
    "for i in range (5,7):\n",
    "    print(i)"
   ]
  },
  {
   "cell_type": "code",
   "execution_count": 73,
   "id": "a6bb7bd7",
   "metadata": {},
   "outputs": [
    {
     "name": "stdout",
     "output_type": "stream",
     "text": [
      "5\n",
      "8\n",
      "11\n"
     ]
    }
   ],
   "source": [
    "for i in range (5,13,3):\n",
    "    print(i)"
   ]
  },
  {
   "cell_type": "markdown",
   "id": "066333d0",
   "metadata": {},
   "source": [
    "#### in dan not in\n",
    "\n",
    "- Operator in dan not in: Untuk mengetahui sebuah nilai atau objek ada dalam list\n",
    "- Fungsi in akan mengembalikan nilai boolean True atau False"
   ]
  },
  {
   "cell_type": "code",
   "execution_count": 74,
   "id": "4d665313",
   "metadata": {},
   "outputs": [],
   "source": [
    "kita = 'aku dan kamu'"
   ]
  },
  {
   "cell_type": "code",
   "execution_count": 75,
   "id": "4e349923",
   "metadata": {},
   "outputs": [
    {
     "data": {
      "text/plain": [
       "True"
      ]
     },
     "execution_count": 75,
     "metadata": {},
     "output_type": "execute_result"
    }
   ],
   "source": [
    "'aku' in kita"
   ]
  },
  {
   "cell_type": "code",
   "execution_count": 76,
   "id": "54b041ba",
   "metadata": {},
   "outputs": [
    {
     "data": {
      "text/plain": [
       "False"
      ]
     },
     "execution_count": 76,
     "metadata": {},
     "output_type": "execute_result"
    }
   ],
   "source": [
    "'dia' in kita"
   ]
  },
  {
   "cell_type": "code",
   "execution_count": 82,
   "id": "c1cd3047",
   "metadata": {},
   "outputs": [
    {
     "data": {
      "text/plain": [
       "False"
      ]
     },
     "execution_count": 82,
     "metadata": {},
     "output_type": "execute_result"
    }
   ],
   "source": [
    "'kamu' not in kita"
   ]
  },
  {
   "cell_type": "markdown",
   "id": "d1786698",
   "metadata": {},
   "source": [
    "Task"
   ]
  },
  {
   "cell_type": "code",
   "execution_count": 84,
   "id": "99728794",
   "metadata": {},
   "outputs": [],
   "source": [
    "hari_ini = 'kuliah, studi independen, terus lanjut mengerjakan tugas'"
   ]
  },
  {
   "cell_type": "code",
   "execution_count": 85,
   "id": "3e631198",
   "metadata": {},
   "outputs": [
    {
     "data": {
      "text/plain": [
       "True"
      ]
     },
     "execution_count": 85,
     "metadata": {},
     "output_type": "execute_result"
    }
   ],
   "source": [
    "'kuliah' in hari_ini"
   ]
  },
  {
   "cell_type": "code",
   "execution_count": 87,
   "id": "725b3e4d",
   "metadata": {},
   "outputs": [
    {
     "data": {
      "text/plain": [
       "False"
      ]
     },
     "execution_count": 87,
     "metadata": {},
     "output_type": "execute_result"
    }
   ],
   "source": [
    "'magang' in hari_ini"
   ]
  },
  {
   "cell_type": "code",
   "execution_count": 88,
   "id": "5c84dbb8",
   "metadata": {},
   "outputs": [
    {
     "data": {
      "text/plain": [
       "False"
      ]
     },
     "execution_count": 88,
     "metadata": {},
     "output_type": "execute_result"
    }
   ],
   "source": [
    "'tugas' not in hari_ini"
   ]
  },
  {
   "cell_type": "markdown",
   "id": "50426f4a",
   "metadata": {},
   "source": [
    "#### Memberikan nilai untuk multiple variable\n",
    "\n",
    "Anda kadang memiliki beberapa variabel dan perlu memberikan nilai pada variabel-variabel tersebut. Secara konvensional, Anda bisa menandai variabel-variabel dengan nilai yang Anda inginkan, satu per satu."
   ]
  },
  {
   "cell_type": "code",
   "execution_count": 78,
   "id": "3a803213",
   "metadata": {},
   "outputs": [],
   "source": [
    "makanan = ['bakso', 'bakso telur', 'pedas']"
   ]
  },
  {
   "cell_type": "code",
   "execution_count": 79,
   "id": "776567bd",
   "metadata": {},
   "outputs": [
    {
     "name": "stdout",
     "output_type": "stream",
     "text": [
      "['bakso', 'bakso telur', 'pedas']\n"
     ]
    }
   ],
   "source": [
    "print(makanan)"
   ]
  },
  {
   "cell_type": "code",
   "execution_count": 80,
   "id": "b4659b01",
   "metadata": {},
   "outputs": [],
   "source": [
    "nama = makanan[0]"
   ]
  },
  {
   "cell_type": "code",
   "execution_count": 81,
   "id": "52b2eff3",
   "metadata": {},
   "outputs": [
    {
     "name": "stdout",
     "output_type": "stream",
     "text": [
      "bakso\n"
     ]
    }
   ],
   "source": [
    "print(nama)"
   ]
  },
  {
   "cell_type": "code",
   "execution_count": 89,
   "id": "c41605d0",
   "metadata": {},
   "outputs": [],
   "source": [
    "jenis = makanan[1]"
   ]
  },
  {
   "cell_type": "code",
   "execution_count": 90,
   "id": "ac59f76a",
   "metadata": {},
   "outputs": [
    {
     "name": "stdout",
     "output_type": "stream",
     "text": [
      "bakso telur\n"
     ]
    }
   ],
   "source": [
    "print(jenis)"
   ]
  },
  {
   "cell_type": "code",
   "execution_count": 93,
   "id": "862ed400",
   "metadata": {},
   "outputs": [],
   "source": [
    "rasa = makanan[2]"
   ]
  },
  {
   "cell_type": "code",
   "execution_count": 94,
   "id": "a4df2b20",
   "metadata": {},
   "outputs": [
    {
     "name": "stdout",
     "output_type": "stream",
     "text": [
      "pedas\n"
     ]
    }
   ],
   "source": [
    "print(rasa)"
   ]
  },
  {
   "cell_type": "markdown",
   "id": "14908a5e",
   "metadata": {},
   "source": [
    "- Python memiliki cara yang lebih praktis\n",
    "- Kita dapat memberikan nilai untuk beberapa variabel sekaligus dari elemen list atau tuple tanpa perlu menandai satu per satu"
   ]
  },
  {
   "cell_type": "code",
   "execution_count": 95,
   "id": "b647699a",
   "metadata": {},
   "outputs": [],
   "source": [
    "makanan = ['bakso', 'bakso telur', 'pedas']"
   ]
  },
  {
   "cell_type": "code",
   "execution_count": 96,
   "id": "e5eea1a0",
   "metadata": {},
   "outputs": [],
   "source": [
    "nama, jenis, rasa = makanan"
   ]
  },
  {
   "cell_type": "code",
   "execution_count": 97,
   "id": "ccf4cf74",
   "metadata": {},
   "outputs": [],
   "source": [
    "minuman = ('jus', 'jus mangga', 'manis')"
   ]
  },
  {
   "cell_type": "code",
   "execution_count": 98,
   "id": "b0bc503f",
   "metadata": {},
   "outputs": [],
   "source": [
    "nama, jenis, rasa = minuman"
   ]
  },
  {
   "cell_type": "code",
   "execution_count": 100,
   "id": "22386d49",
   "metadata": {},
   "outputs": [
    {
     "data": {
      "text/plain": [
       "'jus'"
      ]
     },
     "execution_count": 100,
     "metadata": {},
     "output_type": "execute_result"
    }
   ],
   "source": [
    "nama"
   ]
  },
  {
   "cell_type": "code",
   "execution_count": 101,
   "id": "e936aecd",
   "metadata": {},
   "outputs": [
    {
     "data": {
      "text/plain": [
       "'jus mangga'"
      ]
     },
     "execution_count": 101,
     "metadata": {},
     "output_type": "execute_result"
    }
   ],
   "source": [
    "jenis"
   ]
  },
  {
   "cell_type": "code",
   "execution_count": 102,
   "id": "e0f2bc97",
   "metadata": {},
   "outputs": [
    {
     "data": {
      "text/plain": [
       "'manis'"
      ]
     },
     "execution_count": 102,
     "metadata": {},
     "output_type": "execute_result"
    }
   ],
   "source": [
    "rasa"
   ]
  },
  {
   "cell_type": "markdown",
   "id": "7a514a90",
   "metadata": {},
   "source": [
    "Tentu saja jumlah variabel dan jumlah item pdaa list atau tuple harus sama. Jika tidak maka Python akan memberikan ValueError"
   ]
  },
  {
   "cell_type": "code",
   "execution_count": 103,
   "id": "e8725a7f",
   "metadata": {},
   "outputs": [],
   "source": [
    "minuman = ('jus', 'jus mangga', 'manis')"
   ]
  },
  {
   "cell_type": "code",
   "execution_count": 104,
   "id": "8eeae712",
   "metadata": {},
   "outputs": [
    {
     "ename": "ValueError",
     "evalue": "not enough values to unpack (expected 4, got 3)",
     "output_type": "error",
     "traceback": [
      "\u001b[1;31m---------------------------------------------------------------------------\u001b[0m",
      "\u001b[1;31mValueError\u001b[0m                                Traceback (most recent call last)",
      "\u001b[1;32m<ipython-input-104-58633afeae8b>\u001b[0m in \u001b[0;36m<module>\u001b[1;34m\u001b[0m\n\u001b[1;32m----> 1\u001b[1;33m \u001b[0mnama\u001b[0m\u001b[1;33m,\u001b[0m \u001b[0mjenis\u001b[0m\u001b[1;33m,\u001b[0m \u001b[0mrasa\u001b[0m\u001b[1;33m,\u001b[0m \u001b[0mharga\u001b[0m \u001b[1;33m=\u001b[0m \u001b[0mminuman\u001b[0m\u001b[1;33m\u001b[0m\u001b[1;33m\u001b[0m\u001b[0m\n\u001b[0m",
      "\u001b[1;31mValueError\u001b[0m: not enough values to unpack (expected 4, got 3)"
     ]
    }
   ],
   "source": [
    "nama, jenis, rasa, harga = minuman"
   ]
  },
  {
   "cell_type": "markdown",
   "id": "71d51464",
   "metadata": {},
   "source": [
    "Penggunaan assignment pada multi variabel ini dapat Anda gunakan untuk menukar nilai dua atau lebih variabel"
   ]
  },
  {
   "cell_type": "code",
   "execution_count": 105,
   "id": "d0f5683d",
   "metadata": {},
   "outputs": [],
   "source": [
    "wajah, sifat = 'menarik', 'baik'"
   ]
  },
  {
   "cell_type": "code",
   "execution_count": 106,
   "id": "c275ff00",
   "metadata": {},
   "outputs": [],
   "source": [
    "wajah, sifat = sifat, wajah"
   ]
  },
  {
   "cell_type": "code",
   "execution_count": 108,
   "id": "19769e7b",
   "metadata": {},
   "outputs": [
    {
     "data": {
      "text/plain": [
       "'baik'"
      ]
     },
     "execution_count": 108,
     "metadata": {},
     "output_type": "execute_result"
    }
   ],
   "source": [
    "wajah"
   ]
  },
  {
   "cell_type": "code",
   "execution_count": 109,
   "id": "b88bbbb4",
   "metadata": {},
   "outputs": [
    {
     "data": {
      "text/plain": [
       "'menarik'"
      ]
     },
     "execution_count": 109,
     "metadata": {},
     "output_type": "execute_result"
    }
   ],
   "source": [
    "sifat"
   ]
  },
  {
   "cell_type": "markdown",
   "id": "641fb7a3",
   "metadata": {},
   "source": [
    "Task"
   ]
  },
  {
   "cell_type": "code",
   "execution_count": 2,
   "id": "588927a4",
   "metadata": {},
   "outputs": [
    {
     "name": "stdout",
     "output_type": "stream",
     "text": [
      "['kucing', 'betina', 2]\n"
     ]
    }
   ],
   "source": [
    "hewan1 = ['kucing', 'betina', 2]\n",
    "print(hewan1)"
   ]
  },
  {
   "cell_type": "code",
   "execution_count": 3,
   "id": "979cc547",
   "metadata": {},
   "outputs": [
    {
     "name": "stdout",
     "output_type": "stream",
     "text": [
      "kucing\n"
     ]
    }
   ],
   "source": [
    "nama = hewan1[0]\n",
    "print(nama)"
   ]
  },
  {
   "cell_type": "code",
   "execution_count": 4,
   "id": "d7e6bdfc",
   "metadata": {},
   "outputs": [
    {
     "name": "stdout",
     "output_type": "stream",
     "text": [
      "betina\n"
     ]
    }
   ],
   "source": [
    "jk = hewan1[1]\n",
    "print(jk)"
   ]
  },
  {
   "cell_type": "code",
   "execution_count": 5,
   "id": "706de8e0",
   "metadata": {},
   "outputs": [
    {
     "name": "stdout",
     "output_type": "stream",
     "text": [
      "2\n"
     ]
    }
   ],
   "source": [
    "usia = hewan1[2]\n",
    "print(usia)"
   ]
  },
  {
   "cell_type": "code",
   "execution_count": 7,
   "id": "54be9eef",
   "metadata": {},
   "outputs": [
    {
     "name": "stdout",
     "output_type": "stream",
     "text": [
      "('sapi', 'jantan', 1)\n"
     ]
    }
   ],
   "source": [
    "hewan2 = ('sapi', 'jantan', 1)\n",
    "print(hewan2)"
   ]
  },
  {
   "cell_type": "code",
   "execution_count": 8,
   "id": "0c2bd350",
   "metadata": {},
   "outputs": [],
   "source": [
    "jk, usia, nama = hewan2"
   ]
  },
  {
   "cell_type": "code",
   "execution_count": 9,
   "id": "66088ff6",
   "metadata": {},
   "outputs": [
    {
     "name": "stdout",
     "output_type": "stream",
     "text": [
      "1 sapi jantan\n"
     ]
    }
   ],
   "source": [
    "print(nama, jk, usia)"
   ]
  },
  {
   "cell_type": "code",
   "execution_count": 10,
   "id": "29b0e4bb",
   "metadata": {},
   "outputs": [],
   "source": [
    "nama, jk, usia = jk, usia, nama"
   ]
  },
  {
   "cell_type": "code",
   "execution_count": 11,
   "id": "06339dcc",
   "metadata": {},
   "outputs": [
    {
     "name": "stdout",
     "output_type": "stream",
     "text": [
      "sapi jantan 1\n"
     ]
    }
   ],
   "source": [
    "print(nama, jk, usia)"
   ]
  },
  {
   "cell_type": "markdown",
   "id": "971206d7",
   "metadata": {},
   "source": [
    "#### Sort()\n",
    "\n",
    "- Metode sort(): menggunakan angka atau urutan huruf\n",
    "- Metode sort() ini bisa mengurutkan list"
   ]
  },
  {
   "cell_type": "code",
   "execution_count": 12,
   "id": "3b098038",
   "metadata": {},
   "outputs": [],
   "source": [
    "nilai = [40,20,30,10,50]"
   ]
  },
  {
   "cell_type": "code",
   "execution_count": 14,
   "id": "58f8948d",
   "metadata": {},
   "outputs": [],
   "source": [
    "nilai.sort()"
   ]
  },
  {
   "cell_type": "code",
   "execution_count": 15,
   "id": "ee90c73e",
   "metadata": {},
   "outputs": [
    {
     "name": "stdout",
     "output_type": "stream",
     "text": [
      "[10, 20, 30, 40, 50]\n"
     ]
    }
   ],
   "source": [
    "print(nilai)"
   ]
  },
  {
   "cell_type": "code",
   "execution_count": 16,
   "id": "68114752",
   "metadata": {},
   "outputs": [],
   "source": [
    "siswa = ['Calvin', 'Andi', 'Budi']"
   ]
  },
  {
   "cell_type": "code",
   "execution_count": 17,
   "id": "13f44b38",
   "metadata": {},
   "outputs": [],
   "source": [
    "siswa.sort()"
   ]
  },
  {
   "cell_type": "code",
   "execution_count": 18,
   "id": "cd677006",
   "metadata": {},
   "outputs": [
    {
     "name": "stdout",
     "output_type": "stream",
     "text": [
      "['Andi', 'Budi', 'Calvin']\n"
     ]
    }
   ],
   "source": [
    "print(siswa)"
   ]
  },
  {
   "cell_type": "markdown",
   "id": "5181bf8e",
   "metadata": {},
   "source": [
    "Kita juga dapat memasukan keyword reverse=True di dalam parameter untuk menjadikan urutannya terbalik"
   ]
  },
  {
   "cell_type": "code",
   "execution_count": 19,
   "id": "ea21e54f",
   "metadata": {},
   "outputs": [],
   "source": [
    "huruf = ['d','i','a']"
   ]
  },
  {
   "cell_type": "code",
   "execution_count": 20,
   "id": "3cc1f685",
   "metadata": {},
   "outputs": [],
   "source": [
    "huruf.sort()"
   ]
  },
  {
   "cell_type": "code",
   "execution_count": 21,
   "id": "48b3c5a1",
   "metadata": {},
   "outputs": [
    {
     "name": "stdout",
     "output_type": "stream",
     "text": [
      "['a', 'd', 'i']\n"
     ]
    }
   ],
   "source": [
    "print(huruf)"
   ]
  },
  {
   "cell_type": "code",
   "execution_count": 22,
   "id": "652afd5d",
   "metadata": {},
   "outputs": [],
   "source": [
    "huruf.sort(reverse=True)"
   ]
  },
  {
   "cell_type": "code",
   "execution_count": 23,
   "id": "27ba9454",
   "metadata": {},
   "outputs": [
    {
     "name": "stdout",
     "output_type": "stream",
     "text": [
      "['i', 'd', 'a']\n"
     ]
    }
   ],
   "source": [
    "print(huruf)"
   ]
  },
  {
   "cell_type": "markdown",
   "id": "4eac6cf4",
   "metadata": {},
   "source": [
    "Metode sort tidak dapat mengurutkan list yang memiliki angka dan string sekaligus di dalamnya."
   ]
  },
  {
   "cell_type": "code",
   "execution_count": 28,
   "id": "9b865258",
   "metadata": {},
   "outputs": [],
   "source": [
    "no = ['B',2,1,'A','C']"
   ]
  },
  {
   "cell_type": "code",
   "execution_count": 29,
   "id": "b9df4627",
   "metadata": {},
   "outputs": [
    {
     "ename": "TypeError",
     "evalue": "'<' not supported between instances of 'int' and 'str'",
     "output_type": "error",
     "traceback": [
      "\u001b[1;31m---------------------------------------------------------------------------\u001b[0m",
      "\u001b[1;31mTypeError\u001b[0m                                 Traceback (most recent call last)",
      "\u001b[1;32m<ipython-input-29-761608f5c660>\u001b[0m in \u001b[0;36m<module>\u001b[1;34m\u001b[0m\n\u001b[1;32m----> 1\u001b[1;33m \u001b[0mno\u001b[0m\u001b[1;33m.\u001b[0m\u001b[0msort\u001b[0m\u001b[1;33m(\u001b[0m\u001b[1;33m)\u001b[0m\u001b[1;33m\u001b[0m\u001b[1;33m\u001b[0m\u001b[0m\n\u001b[0m",
      "\u001b[1;31mTypeError\u001b[0m: '<' not supported between instances of 'int' and 'str'"
     ]
    }
   ],
   "source": [
    "no.sort()"
   ]
  },
  {
   "cell_type": "code",
   "execution_count": 24,
   "id": "9a7b921f",
   "metadata": {},
   "outputs": [],
   "source": [
    "nama = ['Budi', 'andi', 'calvin']"
   ]
  },
  {
   "cell_type": "code",
   "execution_count": 25,
   "id": "8c2115ec",
   "metadata": {},
   "outputs": [],
   "source": [
    "nama.sort()"
   ]
  },
  {
   "cell_type": "code",
   "execution_count": 26,
   "id": "ba04c434",
   "metadata": {},
   "outputs": [
    {
     "name": "stdout",
     "output_type": "stream",
     "text": [
      "['Budi', 'andi', 'calvin']\n"
     ]
    }
   ],
   "source": [
    "print(nama)"
   ]
  },
  {
   "cell_type": "markdown",
   "id": "08258e4c",
   "metadata": {},
   "source": [
    "- Kita dapat memasukkan keyword str.lower pada parameter\n",
    "- Hal ini akan membuat metode sort menganggap semua objek menggunakan huruf kecil, tanpa mengubah kondisi asli dari objek tersebut"
   ]
  },
  {
   "cell_type": "code",
   "execution_count": 30,
   "id": "200ce56b",
   "metadata": {},
   "outputs": [],
   "source": [
    "nama = ['Budi', 'andi', 'calvin']"
   ]
  },
  {
   "cell_type": "code",
   "execution_count": 31,
   "id": "76739080",
   "metadata": {},
   "outputs": [],
   "source": [
    "nama.sort(key=str.lower)"
   ]
  },
  {
   "cell_type": "code",
   "execution_count": 32,
   "id": "44e8a084",
   "metadata": {},
   "outputs": [
    {
     "name": "stdout",
     "output_type": "stream",
     "text": [
      "['andi', 'Budi', 'calvin']\n"
     ]
    }
   ],
   "source": [
    "print(nama)"
   ]
  },
  {
   "cell_type": "markdown",
   "id": "0a5bb522",
   "metadata": {},
   "source": [
    "Task"
   ]
  },
  {
   "cell_type": "code",
   "execution_count": 33,
   "id": "862a9de6",
   "metadata": {},
   "outputs": [],
   "source": [
    "hewan = ['kucing', 'sapi', 'ayam', 'katak', 'kucing', 'capung']"
   ]
  },
  {
   "cell_type": "code",
   "execution_count": 35,
   "id": "657f27a1",
   "metadata": {},
   "outputs": [
    {
     "name": "stdout",
     "output_type": "stream",
     "text": [
      "['ayam', 'capung', 'katak', 'kucing', 'kucing', 'sapi']\n"
     ]
    }
   ],
   "source": [
    "hewan.sort() #asc\n",
    "print(hewan)"
   ]
  },
  {
   "cell_type": "code",
   "execution_count": 36,
   "id": "103153cf",
   "metadata": {},
   "outputs": [
    {
     "name": "stdout",
     "output_type": "stream",
     "text": [
      "['sapi', 'kucing', 'kucing', 'katak', 'capung', 'ayam']\n"
     ]
    }
   ],
   "source": [
    "hewan.sort(reverse=True) #desc\n",
    "print(hewan)"
   ]
  },
  {
   "cell_type": "code",
   "execution_count": 37,
   "id": "54928417",
   "metadata": {},
   "outputs": [
    {
     "name": "stdout",
     "output_type": "stream",
     "text": [
      "['ayam', 'capung', 'katak', 'kucing', 'kucing', 'sapi']\n"
     ]
    }
   ],
   "source": [
    "hewan.sort(key=str.lower)\n",
    "print(hewan)"
   ]
  },
  {
   "cell_type": "code",
   "execution_count": 38,
   "id": "78819145",
   "metadata": {},
   "outputs": [
    {
     "name": "stdout",
     "output_type": "stream",
     "text": [
      "['ayam', 'capung', 'katak', 'kucing', 'kucing', 'sapi']\n"
     ]
    }
   ],
   "source": [
    "hewan.sort(key=str.upper)\n",
    "print(hewan)"
   ]
  },
  {
   "cell_type": "code",
   "execution_count": null,
   "id": "e4f6739b",
   "metadata": {},
   "outputs": [],
   "source": []
  }
 ],
 "metadata": {
  "kernelspec": {
   "display_name": "Python 3",
   "language": "python",
   "name": "python3"
  },
  "language_info": {
   "codemirror_mode": {
    "name": "ipython",
    "version": 3
   },
   "file_extension": ".py",
   "mimetype": "text/x-python",
   "name": "python",
   "nbconvert_exporter": "python",
   "pygments_lexer": "ipython3",
   "version": "3.8.8"
  }
 },
 "nbformat": 4,
 "nbformat_minor": 5
}
