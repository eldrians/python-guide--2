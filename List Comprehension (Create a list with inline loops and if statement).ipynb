{
 "cells": [
  {
   "cell_type": "markdown",
   "id": "67a1b174",
   "metadata": {},
   "source": [
    "# List Comprehension (Create a list with inline loops and if statement)"
   ]
  },
  {
   "cell_type": "markdown",
   "id": "0f1d08eb",
   "metadata": {},
   "source": [
    "Sometimes we need to create a new list with the previous list operation."
   ]
  },
  {
   "cell_type": "markdown",
   "id": "a8b243ef",
   "metadata": {},
   "source": [
    "List Comprehension is a way to generate new lists based on pre-existing lists or iterables"
   ]
  },
  {
   "cell_type": "code",
   "execution_count": 1,
   "id": "1a55e380",
   "metadata": {},
   "outputs": [],
   "source": [
    "number = [2,3,4]"
   ]
  },
  {
   "cell_type": "code",
   "execution_count": 2,
   "id": "770a7907",
   "metadata": {},
   "outputs": [],
   "source": [
    "kubik = []"
   ]
  },
  {
   "cell_type": "code",
   "execution_count": 3,
   "id": "aa044e0a",
   "metadata": {},
   "outputs": [
    {
     "name": "stdout",
     "output_type": "stream",
     "text": [
      "[8, 27, 64]\n"
     ]
    }
   ],
   "source": [
    "for i in number:\n",
    "    kubik.append(i**3)\n",
    "print(kubik)"
   ]
  },
  {
   "cell_type": "markdown",
   "id": "2e51129d",
   "metadata": {},
   "source": [
    "Penulisan dengan cara lain\n",
    "\n",
    "new_list = [expression for_loop_one_or_more_conditions)"
   ]
  },
  {
   "cell_type": "code",
   "execution_count": 4,
   "id": "7426f049",
   "metadata": {},
   "outputs": [],
   "source": [
    "angka = [2,3,4]"
   ]
  },
  {
   "cell_type": "code",
   "execution_count": 6,
   "id": "3306096c",
   "metadata": {},
   "outputs": [],
   "source": [
    "kubik = [i**3 for i in angka]"
   ]
  },
  {
   "cell_type": "code",
   "execution_count": 14,
   "id": "c2f0cd36",
   "metadata": {},
   "outputs": [
    {
     "name": "stdout",
     "output_type": "stream",
     "text": [
      "[8, 27, 64]\n"
     ]
    }
   ],
   "source": [
    "print(kubik)"
   ]
  },
  {
   "cell_type": "markdown",
   "id": "c8e041eb",
   "metadata": {},
   "source": [
    "Exercise!"
   ]
  },
  {
   "cell_type": "code",
   "execution_count": 8,
   "id": "4a009c15",
   "metadata": {},
   "outputs": [],
   "source": [
    "number = [5,6,7,9,11]"
   ]
  },
  {
   "cell_type": "code",
   "execution_count": 9,
   "id": "d269b3d4",
   "metadata": {},
   "outputs": [],
   "source": [
    "floor_division = []"
   ]
  },
  {
   "cell_type": "code",
   "execution_count": 10,
   "id": "3584a39f",
   "metadata": {},
   "outputs": [
    {
     "name": "stdout",
     "output_type": "stream",
     "text": [
      "[2, 3, 3, 4, 5]\n"
     ]
    }
   ],
   "source": [
    "for i in number:\n",
    "    floor_division.append(i//2)\n",
    "print(floor_division)"
   ]
  },
  {
   "cell_type": "code",
   "execution_count": 11,
   "id": "f6ba4112",
   "metadata": {},
   "outputs": [],
   "source": [
    "number = [5,6,7,9,11]"
   ]
  },
  {
   "cell_type": "code",
   "execution_count": 12,
   "id": "3994e5fc",
   "metadata": {},
   "outputs": [],
   "source": [
    "modulo = [i%2 for i in number]"
   ]
  },
  {
   "cell_type": "code",
   "execution_count": 19,
   "id": "e9287aa5",
   "metadata": {},
   "outputs": [
    {
     "name": "stdout",
     "output_type": "stream",
     "text": [
      "[1, 0, 1, 1, 1]\n"
     ]
    }
   ],
   "source": [
    "print(modulo)"
   ]
  },
  {
   "cell_type": "markdown",
   "id": "6912297e",
   "metadata": {},
   "source": [
    "Other example for List Comprehension !"
   ]
  },
  {
   "cell_type": "code",
   "execution_count": 21,
   "id": "702b27fb",
   "metadata": {},
   "outputs": [
    {
     "name": "stdout",
     "output_type": "stream",
     "text": [
      "['c']\n"
     ]
    }
   ],
   "source": [
    "abc = ['a','b','c']\n",
    "cde = ['c','d','e']\n",
    "\n",
    "duplicate=[]\n",
    "\n",
    "for i in abc:\n",
    "    for j in cde:\n",
    "        if i == j:\n",
    "            duplicate.append(i)\n",
    "print(duplicate)\n"
   ]
  },
  {
   "cell_type": "code",
   "execution_count": 23,
   "id": "f6517b54",
   "metadata": {},
   "outputs": [
    {
     "name": "stdout",
     "output_type": "stream",
     "text": [
      "['c']\n"
     ]
    }
   ],
   "source": [
    "abc = ['a','b','c']\n",
    "cde = ['c','d','e']\n",
    "\n",
    "duplikat=[i for i in abc for j in cde if i==j]\n",
    "print(duplikat)"
   ]
  },
  {
   "cell_type": "markdown",
   "id": "632608e6",
   "metadata": {},
   "source": [
    "Exercise!"
   ]
  },
  {
   "cell_type": "code",
   "execution_count": 4,
   "id": "b984afc5",
   "metadata": {},
   "outputs": [
    {
     "name": "stdout",
     "output_type": "stream",
     "text": [
      "['Gado-Gado', 'Nasi Goreng']\n"
     ]
    }
   ],
   "source": [
    "food1 = ['Gado-Gado','Pecel','Nasi Goreng']\n",
    "food2 = ['Gado-Gado','Nasi Goreng','Bakmie']\n",
    "\n",
    "same_value=[]\n",
    "\n",
    "for i in food1:\n",
    "    for j in food2:\n",
    "        if i in j:\n",
    "            same_value.append(i)\n",
    "print(same_value)"
   ]
  },
  {
   "cell_type": "code",
   "execution_count": 5,
   "id": "dbde3bb1",
   "metadata": {},
   "outputs": [
    {
     "name": "stdout",
     "output_type": "stream",
     "text": [
      "['Gado-Gado', 'Nasi Goreng']\n"
     ]
    }
   ],
   "source": [
    "food1 = ['Gado-Gado','Pecel','Nasi Goreng']\n",
    "food2 = ['Gado-Gado','Nasi Goreng','Bakmie']\n",
    "\n",
    "same_value=[i for i in food1 for j in food2 if i in j]\n",
    "print(same_value)"
   ]
  },
  {
   "cell_type": "markdown",
   "id": "6d441980",
   "metadata": {},
   "source": [
    "Other Example of List Comprehension"
   ]
  },
  {
   "cell_type": "code",
   "execution_count": 34,
   "id": "638142cb",
   "metadata": {},
   "outputs": [
    {
     "name": "stdout",
     "output_type": "stream",
     "text": [
      "['DATA', 'SCIENCE']\n"
     ]
    }
   ],
   "source": [
    "data = ['data','science']\n",
    "\n",
    "upper = [_.upper() for _ in data]\n",
    "\n",
    "print(upper)"
   ]
  },
  {
   "cell_type": "markdown",
   "id": "0258c63c",
   "metadata": {},
   "source": [
    "* Underscore (underscore) including valid variable naming\n",
    "* In general \"_\" can be used as a throwaway variable (variable is not important)."
   ]
  },
  {
   "cell_type": "code",
   "execution_count": 6,
   "id": "fc689d41",
   "metadata": {},
   "outputs": [
    {
     "name": "stdout",
     "output_type": "stream",
     "text": [
      "[[1, 1], [9, 27], [25, 125], [49, 343]]\n"
     ]
    }
   ],
   "source": [
    "number = range (1,8,2)\n",
    "\n",
    "kuadrat_kubik = [[_**2, _**3] for _ in number]\n",
    "\n",
    "print(kuadrat_kubik)"
   ]
  },
  {
   "cell_type": "markdown",
   "id": "f0ff82fa",
   "metadata": {},
   "source": [
    "Exercise!"
   ]
  },
  {
   "cell_type": "code",
   "execution_count": null,
   "id": "5343b6be",
   "metadata": {},
   "outputs": [],
   "source": [
    "python = ['PYTHON','PROGRAMMING']\n",
    "\n",
    "lower = [_.lower() for _ in python]\n",
    "\n",
    "print(lower)"
   ]
  },
  {
   "cell_type": "code",
   "execution_count": 31,
   "id": "353430cc",
   "metadata": {},
   "outputs": [
    {
     "name": "stdout",
     "output_type": "stream",
     "text": [
      "[[1, 0], [1, 1], [1, 1], [1, 2], [1, 3], [1, 3], [1, 4]]\n"
     ]
    }
   ],
   "source": [
    "number = range (1,15,2)\n",
    "\n",
    "modulo_flordivision = [[_%2, _//3] for _ in number]\n",
    "\n",
    "print(modulo_flordivision)"
   ]
  },
  {
   "cell_type": "code",
   "execution_count": null,
   "id": "28a6cde2",
   "metadata": {},
   "outputs": [],
   "source": []
  }
 ],
 "metadata": {
  "kernelspec": {
   "display_name": "Python 3 (ipykernel)",
   "language": "python",
   "name": "python3"
  },
  "language_info": {
   "codemirror_mode": {
    "name": "ipython",
    "version": 3
   },
   "file_extension": ".py",
   "mimetype": "text/x-python",
   "name": "python",
   "nbconvert_exporter": "python",
   "pygments_lexer": "ipython3",
   "version": "3.9.12"
  }
 },
 "nbformat": 4,
 "nbformat_minor": 5
}
