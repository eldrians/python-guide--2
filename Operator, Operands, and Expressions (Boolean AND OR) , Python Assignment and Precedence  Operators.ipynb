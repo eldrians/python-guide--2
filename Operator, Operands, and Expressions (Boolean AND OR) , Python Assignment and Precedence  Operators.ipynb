{
 "cells": [
  {
   "cell_type": "markdown",
   "id": "831331bf",
   "metadata": {},
   "source": [
    "1. Boolean AND\n",
    "\n",
    "   - The 'and' keyword is a logical operator, and is used to combine conditional statements\n",
    "   \n",
    "   - Both condition must be fullfilled"
   ]
  },
  {
   "cell_type": "code",
   "execution_count": 1,
   "id": "b304f1cf",
   "metadata": {},
   "outputs": [],
   "source": [
    "#Medical Test\n",
    "\n",
    "rontgen = True\n",
    "blood_test = True\n",
    "no_rontgen = False\n",
    "no_blood_test = False"
   ]
  },
  {
   "cell_type": "code",
   "execution_count": 2,
   "id": "e4e88f0c",
   "metadata": {},
   "outputs": [
    {
     "data": {
      "text/plain": [
       "True"
      ]
     },
     "execution_count": 2,
     "metadata": {},
     "output_type": "execute_result"
    }
   ],
   "source": [
    "rontgen and blood_test"
   ]
  },
  {
   "cell_type": "code",
   "execution_count": 3,
   "id": "0202e342",
   "metadata": {},
   "outputs": [
    {
     "data": {
      "text/plain": [
       "False"
      ]
     },
     "execution_count": 3,
     "metadata": {},
     "output_type": "execute_result"
    }
   ],
   "source": [
    "rontgen and no_blood_test"
   ]
  },
  {
   "cell_type": "code",
   "execution_count": 4,
   "id": "2f826b47",
   "metadata": {},
   "outputs": [
    {
     "data": {
      "text/plain": [
       "False"
      ]
     },
     "execution_count": 4,
     "metadata": {},
     "output_type": "execute_result"
    }
   ],
   "source": [
    "blood_test and no_rontgen"
   ]
  },
  {
   "cell_type": "code",
   "execution_count": 5,
   "id": "89174f6f",
   "metadata": {},
   "outputs": [
    {
     "data": {
      "text/plain": [
       "False"
      ]
     },
     "execution_count": 5,
     "metadata": {},
     "output_type": "execute_result"
    }
   ],
   "source": [
    "no_rontgen and no_blood_test"
   ]
  },
  {
   "cell_type": "markdown",
   "id": "6c4dd2e2",
   "metadata": {},
   "source": [
    "2. Boolean OR\n",
    "\n",
    "    - The OR keyword is used in a boolean expression to check that there is at least one true\n",
    "    \n",
    "    - If both are true, the entire expression is true, if just one side is true the entire expression is true\n",
    "    \n",
    "    - Just one condition must be fullfilled"
   ]
  },
  {
   "cell_type": "code",
   "execution_count": 6,
   "id": "5c3c7fee",
   "metadata": {},
   "outputs": [],
   "source": [
    "#Medical Test\n",
    "\n",
    "free_influenza = True\n",
    "free_covid = True\n",
    "no_free_influenza = False\n",
    "no_free_covid = False"
   ]
  },
  {
   "cell_type": "code",
   "execution_count": 7,
   "id": "873b43d7",
   "metadata": {},
   "outputs": [
    {
     "data": {
      "text/plain": [
       "True"
      ]
     },
     "execution_count": 7,
     "metadata": {},
     "output_type": "execute_result"
    }
   ],
   "source": [
    "free_influenza or free_covid"
   ]
  },
  {
   "cell_type": "code",
   "execution_count": 8,
   "id": "4bf4c7e0",
   "metadata": {},
   "outputs": [
    {
     "data": {
      "text/plain": [
       "True"
      ]
     },
     "execution_count": 8,
     "metadata": {},
     "output_type": "execute_result"
    }
   ],
   "source": [
    "free_influenza or no_free_covid"
   ]
  },
  {
   "cell_type": "code",
   "execution_count": 9,
   "id": "59c9c73b",
   "metadata": {},
   "outputs": [
    {
     "data": {
      "text/plain": [
       "True"
      ]
     },
     "execution_count": 9,
     "metadata": {},
     "output_type": "execute_result"
    }
   ],
   "source": [
    "free_covid or no_free_influenza"
   ]
  },
  {
   "cell_type": "code",
   "execution_count": 10,
   "id": "4a0d099e",
   "metadata": {},
   "outputs": [
    {
     "data": {
      "text/plain": [
       "False"
      ]
     },
     "execution_count": 10,
     "metadata": {},
     "output_type": "execute_result"
    }
   ],
   "source": [
    "no_free_influenza or no_free_covid"
   ]
  },
  {
   "cell_type": "markdown",
   "id": "399cf245",
   "metadata": {},
   "source": [
    "Python Assignment Operators\n",
    "\n",
    "*Short way for arithmatimetic operation"
   ]
  },
  {
   "cell_type": "markdown",
   "id": "b717027e",
   "metadata": {},
   "source": [
    "(*) multiplication\n",
    "\n",
    "(*=) It multiplies right operand with the left operand and assign the result to left operand\n",
    "\n",
    "(-=) It subtracts right operand from the left operand and assign the result to left operand"
   ]
  },
  {
   "cell_type": "code",
   "execution_count": 11,
   "id": "dea8efbe",
   "metadata": {},
   "outputs": [],
   "source": [
    "a = 12*2"
   ]
  },
  {
   "cell_type": "code",
   "execution_count": 12,
   "id": "bcb8198b",
   "metadata": {},
   "outputs": [
    {
     "data": {
      "text/plain": [
       "24"
      ]
     },
     "execution_count": 12,
     "metadata": {},
     "output_type": "execute_result"
    }
   ],
   "source": [
    "a  "
   ]
  },
  {
   "cell_type": "code",
   "execution_count": 13,
   "id": "201c9ed8",
   "metadata": {},
   "outputs": [],
   "source": [
    "b = 10"
   ]
  },
  {
   "cell_type": "code",
   "execution_count": 14,
   "id": "44e5ff28",
   "metadata": {},
   "outputs": [],
   "source": [
    "# The value of b multiplies 4\n",
    "b *= 4"
   ]
  },
  {
   "cell_type": "code",
   "execution_count": 15,
   "id": "b9cb9d5a",
   "metadata": {},
   "outputs": [
    {
     "data": {
      "text/plain": [
       "40"
      ]
     },
     "execution_count": 15,
     "metadata": {},
     "output_type": "execute_result"
    }
   ],
   "source": [
    "b"
   ]
  },
  {
   "cell_type": "code",
   "execution_count": 16,
   "id": "5edfc284",
   "metadata": {},
   "outputs": [],
   "source": [
    "#example for string\n",
    "\n",
    "c = \"ha\"*4"
   ]
  },
  {
   "cell_type": "code",
   "execution_count": 17,
   "id": "b99cf184",
   "metadata": {},
   "outputs": [
    {
     "data": {
      "text/plain": [
       "'hahahaha'"
      ]
     },
     "execution_count": 17,
     "metadata": {},
     "output_type": "execute_result"
    }
   ],
   "source": [
    "c"
   ]
  },
  {
   "cell_type": "markdown",
   "id": "e28b3dd9",
   "metadata": {},
   "source": [
    "* Precedence of Operators\n",
    "  \n",
    "    Python will always evaluate the arithmetic operators first \n",
    "    \n",
    "    (** is highest, then multiplication/division, then addition/subtraction)"
   ]
  },
  {
   "cell_type": "code",
   "execution_count": 18,
   "id": "dd28202e",
   "metadata": {},
   "outputs": [
    {
     "data": {
      "text/plain": [
       "12.5"
      ]
     },
     "execution_count": 18,
     "metadata": {},
     "output_type": "execute_result"
    }
   ],
   "source": [
    "10+5/2"
   ]
  },
  {
   "cell_type": "code",
   "execution_count": 19,
   "id": "48afdd6d",
   "metadata": {},
   "outputs": [
    {
     "data": {
      "text/plain": [
       "12.5"
      ]
     },
     "execution_count": 19,
     "metadata": {},
     "output_type": "execute_result"
    }
   ],
   "source": [
    "#it has the same output if you use ()\n",
    "\n",
    "10 + (5/2)"
   ]
  },
  {
   "cell_type": "code",
   "execution_count": null,
   "id": "1d7a89c4",
   "metadata": {},
   "outputs": [],
   "source": []
  }
 ],
 "metadata": {
  "kernelspec": {
   "display_name": "Python 3 (ipykernel)",
   "language": "python",
   "name": "python3"
  },
  "language_info": {
   "codemirror_mode": {
    "name": "ipython",
    "version": 3
   },
   "file_extension": ".py",
   "mimetype": "text/x-python",
   "name": "python",
   "nbconvert_exporter": "python",
   "pygments_lexer": "ipython3",
   "version": "3.9.12"
  }
 },
 "nbformat": 4,
 "nbformat_minor": 5
}
