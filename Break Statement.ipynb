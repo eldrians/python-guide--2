{
 "cells": [
  {
   "cell_type": "markdown",
   "id": "d00c2c4e",
   "metadata": {},
   "source": [
    "# Break"
   ]
  },
  {
   "cell_type": "markdown",
   "id": "8b004dab",
   "metadata": {},
   "source": [
    "A break statement is a loop control statement used to terminate a loop. When a break statement is encountered within a loop, loop iteration ends there and control immediately returns from the loop to the first statement after the loop."
   ]
  },
  {
   "cell_type": "code",
   "execution_count": 1,
   "id": "fd5050af",
   "metadata": {},
   "outputs": [
    {
     "name": "stdout",
     "output_type": "stream",
     "text": [
      "1\n",
      "2\n",
      "3\n"
     ]
    }
   ],
   "source": [
    "i = 1\n",
    "while i < 6:\n",
    "  print(i)\n",
    "  if i == 3:\n",
    "    break\n",
    "  i += 1"
   ]
  }
 ],
 "metadata": {
  "kernelspec": {
   "display_name": "Python 3 (ipykernel)",
   "language": "python",
   "name": "python3"
  },
  "language_info": {
   "codemirror_mode": {
    "name": "ipython",
    "version": 3
   },
   "file_extension": ".py",
   "mimetype": "text/x-python",
   "name": "python",
   "nbconvert_exporter": "python",
   "pygments_lexer": "ipython3",
   "version": "3.9.7"
  }
 },
 "nbformat": 4,
 "nbformat_minor": 5
}
