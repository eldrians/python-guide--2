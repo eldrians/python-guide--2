{
 "cells": [
  {
   "cell_type": "markdown",
   "id": "a3389aed",
   "metadata": {},
   "source": [
    "# Pass"
   ]
  },
  {
   "cell_type": "markdown",
   "id": "210d5063",
   "metadata": {},
   "source": [
    "The pass statement is used as a placeholder for future code. Nothing happens when the pass statement is executed, but no error message is displayed if empty code is not allowed."
   ]
  },
  {
   "cell_type": "code",
   "execution_count": 2,
   "id": "a0d27120",
   "metadata": {},
   "outputs": [
    {
     "name": "stdout",
     "output_type": "stream",
     "text": [
      "1\n",
      "2\n",
      "3\n",
      "4\n",
      "5\n",
      "6\n"
     ]
    }
   ],
   "source": [
    "i = 0\n",
    "while i < 6:\n",
    "  i += 1\n",
    "  if i % 5 == 0:\n",
    "    pass\n",
    "  print(i)"
   ]
  }
 ],
 "metadata": {
  "kernelspec": {
   "display_name": "Python 3 (ipykernel)",
   "language": "python",
   "name": "python3"
  },
  "language_info": {
   "codemirror_mode": {
    "name": "ipython",
    "version": 3
   },
   "file_extension": ".py",
   "mimetype": "text/x-python",
   "name": "python",
   "nbconvert_exporter": "python",
   "pygments_lexer": "ipython3",
   "version": "3.9.7"
  }
 },
 "nbformat": 4,
 "nbformat_minor": 5
}
