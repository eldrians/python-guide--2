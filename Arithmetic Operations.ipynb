{
 "cells": [
  {
   "cell_type": "markdown",
   "metadata": {},
   "source": [
    "# Arithmetic Operator\n",
    "\n",
    "(+) Addition\n",
    "\n",
    "(-) Substraction\n",
    "\n",
    "(*) Multiplication\n",
    "\n",
    "(/) Division\n",
    "\n",
    "(%) Modulus\n",
    "\n",
    "(**) Exponentiation\n",
    "\n",
    "(//) Floor Division"
   ]
  },
  {
   "cell_type": "code",
   "execution_count": 57,
   "metadata": {},
   "outputs": [
    {
     "name": "stdout",
     "output_type": "stream",
     "text": [
      "10 + 3 = 13\n",
      "10 - 3 = 7\n",
      "10 * 3 = 30\n",
      "10 / 3 = 3.3333333333333335\n",
      "10 % 3 = 1\n",
      "10 ** 3 = 1000\n",
      "10 // 3 = 3\n"
     ]
    }
   ],
   "source": [
    "print(\"10 + 3 =\",10+3) \n",
    "print(\"10 - 3 =\",10-3)\n",
    "print(\"10 * 3 =\",10*3)\n",
    "print(\"10 / 3 =\",10/3)\n",
    "print(\"10 % 3 =\",10%3)\n",
    "print(\"10 ** 3 =\",10**3)\n",
    "print(\"10 // 3 =\",10//3)"
   ]
  }
 ],
 "metadata": {
  "kernelspec": {
   "display_name": "Python 3.10.2 64-bit",
   "language": "python",
   "name": "python3"
  },
  "language_info": {
   "codemirror_mode": {
    "name": "ipython",
    "version": 3
   },
   "file_extension": ".py",
   "mimetype": "text/x-python",
   "name": "python",
   "nbconvert_exporter": "python",
   "pygments_lexer": "ipython3",
   "version": "3.10.2"
  },
  "orig_nbformat": 4,
  "vscode": {
   "interpreter": {
    "hash": "26de051ba29f2982a8de78e945f0abaf191376122a1563185a90213a26c5da77"
   }
  }
 },
 "nbformat": 4,
 "nbformat_minor": 2
}
