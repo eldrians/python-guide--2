{
 "cells": [
  {
   "cell_type": "markdown",
   "id": "2e6cfc12",
   "metadata": {},
   "source": [
    "# Exception"
   ]
  },
  {
   "cell_type": "markdown",
   "id": "cb06c880",
   "metadata": {},
   "source": [
    "Exception or often called errors when operating (runtime errors)\n",
    "\n",
    "* Even if the statement or expression from Python we have written correctly, there may be errors when the command is executed.\n",
    "* Errors that occur while the process is in progress are called exceptions and can be fatal if not handled.\n",
    "* Most exceptions in Python unhandled by the application, so the application crashes with an error message."
   ]
  },
  {
   "cell_type": "markdown",
   "id": "18242415",
   "metadata": {},
   "source": [
    "For example, we forget to assign a value to a variable, but we directly call the variable."
   ]
  },
  {
   "cell_type": "code",
   "execution_count": 1,
   "id": "ca4e4c1d",
   "metadata": {},
   "outputs": [
    {
     "ename": "NameError",
     "evalue": "name 'data' is not defined",
     "output_type": "error",
     "traceback": [
      "\u001b[1;31m---------------------------------------------------------------------------\u001b[0m",
      "\u001b[1;31mNameError\u001b[0m                                 Traceback (most recent call last)",
      "Input \u001b[1;32mIn [1]\u001b[0m, in \u001b[0;36m<cell line: 1>\u001b[1;34m()\u001b[0m\n\u001b[1;32m----> 1\u001b[0m \u001b[38;5;28mprint\u001b[39m(\u001b[43mdata\u001b[49m)\n",
      "\u001b[1;31mNameError\u001b[0m: name 'data' is not defined"
     ]
    }
   ],
   "source": [
    "print(data)"
   ]
  },
  {
   "cell_type": "markdown",
   "id": "990cfb87",
   "metadata": {},
   "source": [
    "For example, a variable of type string operated with a number (type integer)"
   ]
  },
  {
   "cell_type": "code",
   "execution_count": 2,
   "id": "c4223f08",
   "metadata": {},
   "outputs": [],
   "source": [
    "first = '1'"
   ]
  },
  {
   "cell_type": "code",
   "execution_count": 3,
   "id": "4ecebf10",
   "metadata": {},
   "outputs": [
    {
     "ename": "TypeError",
     "evalue": "can only concatenate str (not \"int\") to str",
     "output_type": "error",
     "traceback": [
      "\u001b[1;31m---------------------------------------------------------------------------\u001b[0m",
      "\u001b[1;31mTypeError\u001b[0m                                 Traceback (most recent call last)",
      "Input \u001b[1;32mIn [3]\u001b[0m, in \u001b[0;36m<cell line: 1>\u001b[1;34m()\u001b[0m\n\u001b[1;32m----> 1\u001b[0m \u001b[43mfirst\u001b[49m\u001b[43m \u001b[49m\u001b[38;5;241;43m+\u001b[39;49m\u001b[43m \u001b[49m\u001b[38;5;241;43m2\u001b[39;49m\n",
      "\u001b[1;31mTypeError\u001b[0m: can only concatenate str (not \"int\") to str"
     ]
    }
   ],
   "source": [
    "first + 2"
   ]
  },
  {
   "cell_type": "markdown",
   "id": "efa7bad2",
   "metadata": {},
   "source": [
    "To find out the various types of exceptions in Python, you can visit the documentation site, namely: https://docs.python.org/id/3.8/library/exceptions.html"
   ]
  },
  {
   "cell_type": "markdown",
   "id": "a2e49e93",
   "metadata": {},
   "source": [
    "Challenge!"
   ]
  },
  {
   "cell_type": "code",
   "execution_count": 4,
   "id": "ac214d2f",
   "metadata": {},
   "outputs": [
    {
     "ename": "AttributeError",
     "evalue": "'tuple' object has no attribute 'append'",
     "output_type": "error",
     "traceback": [
      "\u001b[1;31m---------------------------------------------------------------------------\u001b[0m",
      "\u001b[1;31mAttributeError\u001b[0m                            Traceback (most recent call last)",
      "Input \u001b[1;32mIn [4]\u001b[0m, in \u001b[0;36m<cell line: 3>\u001b[1;34m()\u001b[0m\n\u001b[0;32m      1\u001b[0m food \u001b[38;5;241m=\u001b[39m (\u001b[38;5;124m'\u001b[39m\u001b[38;5;124mNasi Goreng\u001b[39m\u001b[38;5;124m'\u001b[39m,\u001b[38;5;124m'\u001b[39m\u001b[38;5;124mSoto Ayam Kampung\u001b[39m\u001b[38;5;124m'\u001b[39m,\u001b[38;5;124m'\u001b[39m\u001b[38;5;124mPecel Ponorogo\u001b[39m\u001b[38;5;124m'\u001b[39m,\u001b[38;5;124m'\u001b[39m\u001b[38;5;124mBakso Ngalam\u001b[39m\u001b[38;5;124m'\u001b[39m)\n\u001b[1;32m----> 3\u001b[0m \u001b[43mfood\u001b[49m\u001b[38;5;241;43m.\u001b[39;49m\u001b[43mappend\u001b[49m(\u001b[38;5;124m'\u001b[39m\u001b[38;5;124mBakmi Goreng\u001b[39m\u001b[38;5;124m'\u001b[39m)\n\u001b[0;32m      5\u001b[0m \u001b[38;5;28mprint\u001b[39m(food)\n",
      "\u001b[1;31mAttributeError\u001b[0m: 'tuple' object has no attribute 'append'"
     ]
    }
   ],
   "source": [
    "food = ('Nasi Goreng','Soto Ayam Kampung','Pecel Ponorogo','Bakso Ngalam')\n",
    "\n",
    "food.append('Bakmi Goreng')\n",
    "\n",
    "print(food)"
   ]
  }
 ],
 "metadata": {
  "kernelspec": {
   "display_name": "Python 3 (ipykernel)",
   "language": "python",
   "name": "python3"
  },
  "language_info": {
   "codemirror_mode": {
    "name": "ipython",
    "version": 3
   },
   "file_extension": ".py",
   "mimetype": "text/x-python",
   "name": "python",
   "nbconvert_exporter": "python",
   "pygments_lexer": "ipython3",
   "version": "3.9.12"
  }
 },
 "nbformat": 4,
 "nbformat_minor": 5
}
