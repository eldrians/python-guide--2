{
 "cells": [
  {
   "cell_type": "markdown",
   "id": "231bece9",
   "metadata": {},
   "source": [
    "# Penanganan Kesalahan (Error and Exception Handling)"
   ]
  },
  {
   "cell_type": "markdown",
   "id": "2127d079",
   "metadata": {},
   "source": [
    "Two types of errors based on their occurrence:\n",
    "\n",
    "1. Syntax error\n",
    "2. Exceptions"
   ]
  },
  {
   "cell_type": "markdown",
   "id": "8240ad2a",
   "metadata": {},
   "source": [
    "Syntax Error"
   ]
  },
  {
   "cell_type": "markdown",
   "id": "5cf38c97",
   "metadata": {},
   "source": [
    "Syntax errors occur when Python can't understand what we mean.\n",
    "\n",
    "For example, the placement of indentance (space at the beginning) is inappropriate."
   ]
  },
  {
   "cell_type": "code",
   "execution_count": 2,
   "id": "9b91d53c",
   "metadata": {},
   "outputs": [
    {
     "ename": "IndentationError",
     "evalue": "expected an indented block (2785405979.py, line 2)",
     "output_type": "error",
     "traceback": [
      "\u001b[1;36m  Input \u001b[1;32mIn [2]\u001b[1;36m\u001b[0m\n\u001b[1;33m    print(i)\u001b[0m\n\u001b[1;37m    ^\u001b[0m\n\u001b[1;31mIndentationError\u001b[0m\u001b[1;31m:\u001b[0m expected an indented block\n"
     ]
    }
   ],
   "source": [
    "for i in 'data':\n",
    "print(i)"
   ]
  },
  {
   "cell_type": "markdown",
   "id": "a75a4090",
   "metadata": {},
   "source": [
    "Another example displays a syntax error, where after the condition of the \"for\" command required a colon."
   ]
  },
  {
   "cell_type": "code",
   "execution_count": 3,
   "id": "5ed6ea9b",
   "metadata": {},
   "outputs": [
    {
     "ename": "SyntaxError",
     "evalue": "invalid syntax (4257874369.py, line 1)",
     "output_type": "error",
     "traceback": [
      "\u001b[1;36m  Input \u001b[1;32mIn [3]\u001b[1;36m\u001b[0m\n\u001b[1;33m    for i in 'data'\u001b[0m\n\u001b[1;37m                   ^\u001b[0m\n\u001b[1;31mSyntaxError\u001b[0m\u001b[1;31m:\u001b[0m invalid syntax\n"
     ]
    }
   ],
   "source": [
    "for i in 'data'\n",
    "    print(i)"
   ]
  }
 ],
 "metadata": {
  "kernelspec": {
   "display_name": "Python 3 (ipykernel)",
   "language": "python",
   "name": "python3"
  },
  "language_info": {
   "codemirror_mode": {
    "name": "ipython",
    "version": 3
   },
   "file_extension": ".py",
   "mimetype": "text/x-python",
   "name": "python",
   "nbconvert_exporter": "python",
   "pygments_lexer": "ipython3",
   "version": "3.9.12"
  }
 },
 "nbformat": 4,
 "nbformat_minor": 5
}
