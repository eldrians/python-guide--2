{
 "cells": [
  {
   "cell_type": "markdown",
   "id": "23c41dc0",
   "metadata": {},
   "source": [
    "1. if\n",
    "\n",
    "    - Only statement is True will be executed, if it is False it will not \n",
    "\n",
    "    - In Python, the body of the if statement is indicated by the indentation, the body starts with an indentation and the first unindented line marks the end\n",
    "\n",
    "    - The output is non-zero values as True, none and 0 are interpreted as False"
   ]
  },
  {
   "cell_type": "code",
   "execution_count": null,
   "id": "c3c22943",
   "metadata": {},
   "outputs": [],
   "source": [
    "# There are 3 ways to print an output (input output part)\n",
    "# .format, use comma, and specifier '%'"
   ]
  },
  {
   "cell_type": "code",
   "execution_count": 1,
   "id": "0007e690",
   "metadata": {},
   "outputs": [
    {
     "name": "stdout",
     "output_type": "stream",
     "text": [
      "Judul film adalah Tangled\n"
     ]
    }
   ],
   "source": [
    "#Print .format\n",
    "\n",
    "Film = \"Tangled\"\n",
    "\n",
    "if Film:\n",
    "    print(\"Judul film adalah {}\". format(Film))"
   ]
  },
  {
   "cell_type": "code",
   "execution_count": 2,
   "id": "c42e619a",
   "metadata": {},
   "outputs": [
    {
     "name": "stdout",
     "output_type": "stream",
     "text": [
      "Judul film adalah Tangled\n"
     ]
    }
   ],
   "source": [
    "#Print comma\n",
    "\n",
    "Film = \"Tangled\"\n",
    "\n",
    "if Film:\n",
    "    print(\"Judul film adalah\", Film)"
   ]
  },
  {
   "cell_type": "code",
   "execution_count": 3,
   "id": "ccea6a14",
   "metadata": {},
   "outputs": [
    {
     "name": "stdout",
     "output_type": "stream",
     "text": [
      "Judul film adalah Tangled\n"
     ]
    }
   ],
   "source": [
    "#Print specifier\n",
    "\n",
    "Film = \"Tangled\"\n",
    "\n",
    "if Film:\n",
    "    print(\"Judul film adalah %s\" % (Film))"
   ]
  },
  {
   "cell_type": "markdown",
   "id": "991c0bda",
   "metadata": {},
   "source": [
    "2. else\n",
    "\n",
    "    - The if..else statement evaluates test expression and will execute the body of if only when the test condition is True, if it is False it will not\n",
    "    \n",
    "    - 'else' is optional"
   ]
  },
  {
   "cell_type": "code",
   "execution_count": 4,
   "id": "b712c289",
   "metadata": {},
   "outputs": [
    {
     "name": "stdout",
     "output_type": "stream",
     "text": [
      "berat badan:101\n",
      "berat badanku 101 maka aku obesitas\n"
     ]
    }
   ],
   "source": [
    "#Print .format\n",
    "\n",
    "bb = int(input(\"berat badan:\"))\n",
    "\n",
    "if bb >= 100:\n",
    "    print(\"berat badanku {} maka aku obesitas\". format(bb))\n",
    "else:\n",
    "    print(\"berat badanku {} maka aku tidak obesitas\". format(bb))"
   ]
  },
  {
   "cell_type": "code",
   "execution_count": 5,
   "id": "b45070e1",
   "metadata": {},
   "outputs": [
    {
     "name": "stdout",
     "output_type": "stream",
     "text": [
      "berat badan:55\n",
      "berat badanku 55 maka aku tidak obesitas\n"
     ]
    }
   ],
   "source": [
    "#Print comma\n",
    "\n",
    "bb = int(input(\"berat badan:\"))\n",
    "\n",
    "if bb >= 100:\n",
    "    print(\"berat badanku\" ,bb, \"maka aku obesitas\")\n",
    "else:\n",
    "    print(\"berat badanku\" ,bb, \"maka aku tidak obesitas\")"
   ]
  },
  {
   "cell_type": "code",
   "execution_count": 6,
   "id": "e19de4c6",
   "metadata": {},
   "outputs": [
    {
     "name": "stdout",
     "output_type": "stream",
     "text": [
      "berat badan:89\n",
      "berat badanku 89 maka aku tidak obesitas\n"
     ]
    }
   ],
   "source": [
    "#Print specifier\n",
    "\n",
    "bb = int(input(\"berat badan:\"))\n",
    "\n",
    "if bb >= 100:\n",
    "    print(\"berat badanku %d maka aku obesitas\" % (bb))\n",
    "else:\n",
    "    print(\"berat badanku %d maka aku tidak obesitas\" % (bb))"
   ]
  },
  {
   "cell_type": "markdown",
   "id": "c53d2b05",
   "metadata": {},
   "source": [
    "3. elif (else if)\n",
    "\n",
    "    - If the condition for if is False, it checks the condition of the next elif block and so on, if it is False the body of else is executed\n",
    "\n",
    "    - Only one block among the several if...elif...else blocks is executed according to the condition\n",
    "  \n",
    "    - In other words, we can say that elif is pythons way of saying \"if the previous conditions were not true, then try this condition\""
   ]
  },
  {
   "cell_type": "code",
   "execution_count": 7,
   "id": "e52fb99b",
   "metadata": {},
   "outputs": [
    {
     "name": "stdout",
     "output_type": "stream",
     "text": [
      "tinggi badan:170\n",
      "tinggi badan 170 cadangan 2\n"
     ]
    }
   ],
   "source": [
    "tb = int(input(\"tinggi badan:\"))\n",
    "\n",
    "if tb >= 200:\n",
    "    print(\"tinggi badan {} masuk tim\". format(tb))\n",
    "elif tb >= 180:\n",
    "    print(\"tinggi badan\" ,tb, \"cadangan 1\")\n",
    "elif tb >= 170:\n",
    "    print(\"tinggi badan %d cadangan 2\" % (tb))\n",
    "elif tb >= 160:\n",
    "    print(\"tinggi badan {} cadangan 3\". format(tb))\n",
    "else:\n",
    "    print(\"tinggi badan {} tidak lolos\". format(tb))"
   ]
  },
  {
   "cell_type": "code",
   "execution_count": null,
   "id": "46502cdc",
   "metadata": {},
   "outputs": [],
   "source": []
  }
 ],
 "metadata": {
  "kernelspec": {
   "display_name": "Python 3 (ipykernel)",
   "language": "python",
   "name": "python3"
  },
  "language_info": {
   "codemirror_mode": {
    "name": "ipython",
    "version": 3
   },
   "file_extension": ".py",
   "mimetype": "text/x-python",
   "name": "python",
   "nbconvert_exporter": "python",
   "pygments_lexer": "ipython3",
   "version": "3.9.12"
  }
 },
 "nbformat": 4,
 "nbformat_minor": 5
}
