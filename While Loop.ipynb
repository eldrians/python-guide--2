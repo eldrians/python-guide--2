{
 "cells": [
  {
   "cell_type": "markdown",
   "id": "53c0ba81",
   "metadata": {},
   "source": [
    "# While Loop"
   ]
  },
  {
   "cell_type": "markdown",
   "id": "0aafe519",
   "metadata": {},
   "source": [
    "While loop is a control flow statement that allows code to be executed repeatedly based on a specific Boolean condition. A while loop can be thought of as repeating if statements. A while loop in Python is used when a block of statements needs to be executed repeatedly. A while loop is treated as a repetition of if statements. A while loop is recommended if the number of iterations is not fixed."
   ]
  },
  {
   "cell_type": "code",
   "execution_count": 1,
   "id": "89b38b60",
   "metadata": {},
   "outputs": [
    {
     "name": "stdout",
     "output_type": "stream",
     "text": [
      "1\n",
      "2\n",
      "3\n",
      "4\n",
      "5\n"
     ]
    }
   ],
   "source": [
    "i = 1\n",
    "while i < 6:\n",
    "  print(i)\n",
    "  i += 1"
   ]
  }
 ],
 "metadata": {
  "kernelspec": {
   "display_name": "Python 3 (ipykernel)",
   "language": "python",
   "name": "python3"
  },
  "language_info": {
   "codemirror_mode": {
    "name": "ipython",
    "version": 3
   },
   "file_extension": ".py",
   "mimetype": "text/x-python",
   "name": "python",
   "nbconvert_exporter": "python",
   "pygments_lexer": "ipython3",
   "version": "3.9.7"
  }
 },
 "nbformat": 4,
 "nbformat_minor": 5
}
